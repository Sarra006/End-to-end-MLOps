{
 "cells": [
  {
   "cell_type": "code",
   "execution_count": 1,
   "metadata": {},
   "outputs": [],
   "source": [
    "import os"
   ]
  },
  {
   "cell_type": "code",
   "execution_count": 2,
   "metadata": {},
   "outputs": [
    {
     "data": {
      "text/plain": [
       "'c:\\\\Users\\\\SAROURA\\\\OneDrive\\\\Documents\\\\ING4\\\\Semestre 2\\\\Machine Learning Avancé\\\\Projet MLOPS\\\\End-to-end-MLOps\\\\research'"
      ]
     },
     "execution_count": 2,
     "metadata": {},
     "output_type": "execute_result"
    }
   ],
   "source": [
    "%pwd"
   ]
  },
  {
   "cell_type": "code",
   "execution_count": 3,
   "metadata": {},
   "outputs": [],
   "source": [
    "os.chdir(\"../\")"
   ]
  },
  {
   "cell_type": "code",
   "execution_count": 4,
   "metadata": {},
   "outputs": [
    {
     "data": {
      "text/plain": [
       "'c:\\\\Users\\\\SAROURA\\\\OneDrive\\\\Documents\\\\ING4\\\\Semestre 2\\\\Machine Learning Avancé\\\\Projet MLOPS\\\\End-to-end-MLOps'"
      ]
     },
     "execution_count": 4,
     "metadata": {},
     "output_type": "execute_result"
    }
   ],
   "source": [
    "%pwd"
   ]
  },
  {
   "cell_type": "code",
   "execution_count": null,
   "metadata": {},
   "outputs": [],
   "source": [
    "os.environ[\"MLFLOW_TRACKING_URI\"]=\"https://dagshub.com/Sarra006/End-to-end-MLOps.mlflow\"\n",
    "os.environ[\"MLFLOW_TRACKING_USERNAME\"]=\"Sarra006\"\n",
    "os.environ[\"MLFLOW_TRACKING_PASSWORD\"]=\"81e47a205751d02495b1b9e080f75c391c08d1b8\""
   ]
  },
  {
   "cell_type": "code",
   "execution_count": 6,
   "metadata": {},
   "outputs": [],
   "source": [
    "from dataclasses import dataclass\n",
    "from pathlib import Path\n",
    "\n",
    "\n",
    "@dataclass(frozen=True)\n",
    "class ModelEvaluationConfig:\n",
    "    root_dir: Path\n",
    "    test_data_path: Path\n",
    "    models_path: Path\n",
    "    metrics_file_name: Path\n",
    "    target_column: str\n",
    "    mlflow_uri: str\n"
   ]
  },
  {
   "cell_type": "code",
   "execution_count": 7,
   "metadata": {},
   "outputs": [],
   "source": [
    "from src.MLOpsProject.constants import *\n",
    "from src.MLOpsProject.utils.common import read_yaml, create_directories, save_json"
   ]
  },
  {
   "cell_type": "code",
   "execution_count": 8,
   "metadata": {},
   "outputs": [],
   "source": [
    "class ConfigurationManager:\n",
    "    def __init__(\n",
    "        self,\n",
    "        config_filepath = CONFIG_FILE_PATH,\n",
    "        schema_filepath = SCHEMA_FILE_PATH):\n",
    "\n",
    "        self.config = read_yaml(config_filepath)\n",
    "        self.schema = read_yaml(schema_filepath)\n",
    "\n",
    "        create_directories([self.config.artifacts_root])\n",
    "\n",
    "    \n",
    "    def get_model_evaluation_config(self) -> ModelEvaluationConfig:\n",
    "        config = self.config.model_evaluation\n",
    "        schema =  self.schema.TARGET_COLUMN\n",
    "\n",
    "        create_directories([config.root_dir])\n",
    "\n",
    "        model_evaluation_config = ModelEvaluationConfig(\n",
    "            root_dir=config.root_dir,\n",
    "            test_data_path=config.test_data_path,\n",
    "            models_path = config.models_path,\n",
    "            metrics_file_name = config.metrics_file_name,\n",
    "            target_column = schema.name,\n",
    "            mlflow_uri=\"https://dagshub.com/Sarra006/End-to-end-MLOps.mlflow\",\n",
    "        )\n",
    "        return model_evaluation_config\n"
   ]
  },
  {
   "cell_type": "code",
   "execution_count": 9,
   "metadata": {},
   "outputs": [],
   "source": [
    "import os\n",
    "import pandas as pd\n",
    "from sklearn.metrics import accuracy_score, precision_score, recall_score, f1_score\n",
    "from urllib.parse import urlparse\n",
    "import mlflow\n",
    "import mlflow.sklearn\n",
    "import numpy as np\n",
    "import joblib"
   ]
  },
  {
   "cell_type": "code",
   "execution_count": 10,
   "metadata": {},
   "outputs": [],
   "source": [
    "class ModelEvaluation:\n",
    "    def __init__(self, config: ModelEvaluationConfig):\n",
    "        self.config = config\n",
    "\n",
    "    def eval_metrics(self, actual, pred):\n",
    "        accuracy = accuracy_score(actual, pred)\n",
    "        precision = precision_score(actual, pred)\n",
    "        recall = recall_score(actual, pred)\n",
    "        f1 = f1_score(actual, pred)\n",
    "        return accuracy, precision, recall, f1\n",
    "\n",
    "    def log_into_mlflow(self):\n",
    "        test_data = pd.read_csv(self.config.test_data_path)\n",
    "        test_x = test_data.drop([self.config.target_column], axis=1)\n",
    "        test_y = test_data[self.config.target_column]\n",
    "\n",
    "        mlflow.set_registry_uri(self.config.mlflow_uri)\n",
    "        tracking_url_type_store = urlparse(mlflow.get_tracking_uri()).scheme\n",
    "\n",
    "        # Parcourir tous les modèles enregistrés\n",
    "        model_files = [f for f in os.listdir(self.config.models_path) if f.endswith(('.pkl', '.joblib'))]\n",
    "        results = {}\n",
    "\n",
    "        for model_file in model_files:\n",
    "            model_path = os.path.join(self.config.models_path, model_file)\n",
    "            model = joblib.load(model_path)\n",
    "\n",
    "            with mlflow.start_run(run_name=model_file):\n",
    "                predictions = model.predict(test_x)\n",
    "\n",
    "                accuracy, precision, recall, f1 = self.eval_metrics(test_y, predictions)\n",
    "\n",
    "                # Enregistrer les métriques en local\n",
    "                results[model_file] = {\n",
    "                    \"accuracy\": accuracy,\n",
    "                    \"precision\": precision,\n",
    "                    \"recall\": recall,\n",
    "                    \"f1_score\": f1\n",
    "                }\n",
    "\n",
    "                mlflow.log_param(\"model_file\", model_file)\n",
    "                mlflow.log_metrics({\n",
    "                    \"accuracy\": accuracy,\n",
    "                    \"precision\": precision,\n",
    "                    \"recall\": recall,\n",
    "                    \"f1_score\": f1\n",
    "                })\n",
    "\n",
    "                # Log du modèle\n",
    "                if tracking_url_type_store != \"file\":\n",
    "                    mlflow.sklearn.log_model(model, \"model\", registered_model_name=model_file.replace(\".pkl\", \"\").replace(\".joblib\", \"\"))\n",
    "                else:\n",
    "                    mlflow.sklearn.log_model(model, \"model\")\n",
    "\n",
    "        # Sauvegarde globale des scores\n",
    "        save_json(path=Path(self.config.metrics_file_name), data=results)\n"
   ]
  },
  {
   "cell_type": "code",
   "execution_count": 11,
   "metadata": {},
   "outputs": [
    {
     "name": "stdout",
     "output_type": "stream",
     "text": [
      "[2025-05-03 17:01:07,675: INFO: common: yaml file: config\\config.yaml loaded successfully]\n",
      "[2025-05-03 17:01:07,681: INFO: common: yaml file: schema.yaml loaded successfully]\n"
     ]
    },
    {
     "name": "stdout",
     "output_type": "stream",
     "text": [
      "[2025-05-03 17:01:07,684: INFO: common: created directory at: artifacts]\n",
      "[2025-05-03 17:01:07,686: INFO: common: created directory at: artifacts/model_evaluation]\n"
     ]
    },
    {
     "name": "stderr",
     "output_type": "stream",
     "text": [
      "2025/05/03 17:01:20 WARNING mlflow.models.model: Model logged without a signature and input example. Please set `input_example` parameter when logging the model to auto infer the model signature.\n",
      "Registered model 'adaboost_model' already exists. Creating a new version of this model...\n",
      "2025/05/03 17:01:24 INFO mlflow.store.model_registry.abstract_store: Waiting up to 300 seconds for model version to finish creation. Model name: adaboost_model, version 4\n",
      "Created version '4' of model 'adaboost_model'.\n"
     ]
    },
    {
     "name": "stdout",
     "output_type": "stream",
     "text": [
      "🏃 View run adaboost_model.pkl at: https://dagshub.com/Sarra006/End-to-end-MLOps.mlflow/#/experiments/0/runs/e8ac51364a424c9f885771127692a3e1\n",
      "🧪 View experiment at: https://dagshub.com/Sarra006/End-to-end-MLOps.mlflow/#/experiments/0\n"
     ]
    },
    {
     "name": "stderr",
     "output_type": "stream",
     "text": [
      "2025/05/03 17:01:32 WARNING mlflow.models.model: Model logged without a signature and input example. Please set `input_example` parameter when logging the model to auto infer the model signature.\n",
      "Registered model 'decision_tree_model' already exists. Creating a new version of this model...\n",
      "2025/05/03 17:01:36 INFO mlflow.store.model_registry.abstract_store: Waiting up to 300 seconds for model version to finish creation. Model name: decision_tree_model, version 4\n",
      "Created version '4' of model 'decision_tree_model'.\n"
     ]
    },
    {
     "name": "stdout",
     "output_type": "stream",
     "text": [
      "🏃 View run decision_tree_model.pkl at: https://dagshub.com/Sarra006/End-to-end-MLOps.mlflow/#/experiments/0/runs/9dd75285cee1412e8a57cf79b1aff666\n",
      "🧪 View experiment at: https://dagshub.com/Sarra006/End-to-end-MLOps.mlflow/#/experiments/0\n"
     ]
    },
    {
     "name": "stderr",
     "output_type": "stream",
     "text": [
      "2025/05/03 17:01:47 WARNING mlflow.models.model: Model logged without a signature and input example. Please set `input_example` parameter when logging the model to auto infer the model signature.\n",
      "Registered model 'gradient_boosting_model' already exists. Creating a new version of this model...\n",
      "2025/05/03 17:01:51 INFO mlflow.store.model_registry.abstract_store: Waiting up to 300 seconds for model version to finish creation. Model name: gradient_boosting_model, version 4\n",
      "Created version '4' of model 'gradient_boosting_model'.\n"
     ]
    },
    {
     "name": "stdout",
     "output_type": "stream",
     "text": [
      "🏃 View run gradient_boosting_model.pkl at: https://dagshub.com/Sarra006/End-to-end-MLOps.mlflow/#/experiments/0/runs/b6fbde13830c4679809086d8df2cfd81\n",
      "🧪 View experiment at: https://dagshub.com/Sarra006/End-to-end-MLOps.mlflow/#/experiments/0\n"
     ]
    },
    {
     "name": "stderr",
     "output_type": "stream",
     "text": [
      "2025/05/03 17:02:01 WARNING mlflow.models.model: Model logged without a signature and input example. Please set `input_example` parameter when logging the model to auto infer the model signature.\n",
      "Registered model 'k-nearest_neighbors_model' already exists. Creating a new version of this model...\n",
      "2025/05/03 17:02:05 INFO mlflow.store.model_registry.abstract_store: Waiting up to 300 seconds for model version to finish creation. Model name: k-nearest_neighbors_model, version 4\n",
      "Created version '4' of model 'k-nearest_neighbors_model'.\n"
     ]
    },
    {
     "name": "stdout",
     "output_type": "stream",
     "text": [
      "🏃 View run k-nearest_neighbors_model.pkl at: https://dagshub.com/Sarra006/End-to-end-MLOps.mlflow/#/experiments/0/runs/2c717cac499546c79907349f23dbd00a\n",
      "🧪 View experiment at: https://dagshub.com/Sarra006/End-to-end-MLOps.mlflow/#/experiments/0\n"
     ]
    },
    {
     "name": "stderr",
     "output_type": "stream",
     "text": [
      "2025/05/03 17:02:17 WARNING mlflow.models.model: Model logged without a signature and input example. Please set `input_example` parameter when logging the model to auto infer the model signature.\n",
      "Registered model 'logistic_regression_model' already exists. Creating a new version of this model...\n",
      "2025/05/03 17:02:21 INFO mlflow.store.model_registry.abstract_store: Waiting up to 300 seconds for model version to finish creation. Model name: logistic_regression_model, version 4\n",
      "Created version '4' of model 'logistic_regression_model'.\n"
     ]
    },
    {
     "name": "stdout",
     "output_type": "stream",
     "text": [
      "🏃 View run logistic_regression_model.pkl at: https://dagshub.com/Sarra006/End-to-end-MLOps.mlflow/#/experiments/0/runs/bb4900022db946d4a282df930082524a\n",
      "🧪 View experiment at: https://dagshub.com/Sarra006/End-to-end-MLOps.mlflow/#/experiments/0\n"
     ]
    },
    {
     "name": "stderr",
     "output_type": "stream",
     "text": [
      "2025/05/03 17:02:31 WARNING mlflow.models.model: Model logged without a signature and input example. Please set `input_example` parameter when logging the model to auto infer the model signature.\n",
      "Registered model 'naive_bayes_model' already exists. Creating a new version of this model...\n",
      "2025/05/03 17:02:35 INFO mlflow.store.model_registry.abstract_store: Waiting up to 300 seconds for model version to finish creation. Model name: naive_bayes_model, version 4\n",
      "Created version '4' of model 'naive_bayes_model'.\n"
     ]
    },
    {
     "name": "stdout",
     "output_type": "stream",
     "text": [
      "🏃 View run naive_bayes_model.pkl at: https://dagshub.com/Sarra006/End-to-end-MLOps.mlflow/#/experiments/0/runs/e14cb1280aa943b696438a6a3e3fc07d\n",
      "🧪 View experiment at: https://dagshub.com/Sarra006/End-to-end-MLOps.mlflow/#/experiments/0\n"
     ]
    },
    {
     "name": "stderr",
     "output_type": "stream",
     "text": [
      "2025/05/03 17:02:47 WARNING mlflow.models.model: Model logged without a signature and input example. Please set `input_example` parameter when logging the model to auto infer the model signature.\n",
      "Registered model 'random_forest_model' already exists. Creating a new version of this model...\n",
      "2025/05/03 17:02:52 INFO mlflow.store.model_registry.abstract_store: Waiting up to 300 seconds for model version to finish creation. Model name: random_forest_model, version 4\n",
      "Created version '4' of model 'random_forest_model'.\n"
     ]
    },
    {
     "name": "stdout",
     "output_type": "stream",
     "text": [
      "🏃 View run random_forest_model.pkl at: https://dagshub.com/Sarra006/End-to-end-MLOps.mlflow/#/experiments/0/runs/740ef8875a374e90bc180649db7ee539\n",
      "🧪 View experiment at: https://dagshub.com/Sarra006/End-to-end-MLOps.mlflow/#/experiments/0\n"
     ]
    },
    {
     "name": "stderr",
     "output_type": "stream",
     "text": [
      "2025/05/03 17:03:01 WARNING mlflow.models.model: Model logged without a signature and input example. Please set `input_example` parameter when logging the model to auto infer the model signature.\n",
      "Registered model 'support_vector_machine_model' already exists. Creating a new version of this model...\n",
      "2025/05/03 17:03:05 INFO mlflow.store.model_registry.abstract_store: Waiting up to 300 seconds for model version to finish creation. Model name: support_vector_machine_model, version 4\n",
      "Created version '4' of model 'support_vector_machine_model'.\n"
     ]
    },
    {
     "name": "stdout",
     "output_type": "stream",
     "text": [
      "🏃 View run support_vector_machine_model.pkl at: https://dagshub.com/Sarra006/End-to-end-MLOps.mlflow/#/experiments/0/runs/858917c46e344ff79371c9285394339f\n",
      "🧪 View experiment at: https://dagshub.com/Sarra006/End-to-end-MLOps.mlflow/#/experiments/0\n"
     ]
    },
    {
     "name": "stderr",
     "output_type": "stream",
     "text": [
      "2025/05/03 17:03:17 WARNING mlflow.models.model: Model logged without a signature and input example. Please set `input_example` parameter when logging the model to auto infer the model signature.\n",
      "Registered model 'xgboost_model' already exists. Creating a new version of this model...\n",
      "2025/05/03 17:03:21 INFO mlflow.store.model_registry.abstract_store: Waiting up to 300 seconds for model version to finish creation. Model name: xgboost_model, version 4\n",
      "Created version '4' of model 'xgboost_model'.\n"
     ]
    },
    {
     "name": "stdout",
     "output_type": "stream",
     "text": [
      "🏃 View run xgboost_model.pkl at: https://dagshub.com/Sarra006/End-to-end-MLOps.mlflow/#/experiments/0/runs/f8e432fcf2274854bc30e0ec836fc3ef\n",
      "🧪 View experiment at: https://dagshub.com/Sarra006/End-to-end-MLOps.mlflow/#/experiments/0\n",
      "[2025-05-03 17:03:22,014: INFO: common: json file saved at: artifacts\\model_evaluation\\metrics.json]\n"
     ]
    }
   ],
   "source": [
    "try:\n",
    "    config = ConfigurationManager()\n",
    "    model_evaluation_config = config.get_model_evaluation_config()\n",
    "    model_evaluation_config = ModelEvaluation(config=model_evaluation_config)\n",
    "    model_evaluation_config.log_into_mlflow()\n",
    "except Exception as e:\n",
    "    raise e"
   ]
  },
  {
   "cell_type": "code",
   "execution_count": null,
   "metadata": {},
   "outputs": [],
   "source": []
  }
 ],
 "metadata": {
  "kernelspec": {
   "display_name": "venv",
   "language": "python",
   "name": "python3"
  },
  "language_info": {
   "codemirror_mode": {
    "name": "ipython",
    "version": 3
   },
   "file_extension": ".py",
   "mimetype": "text/x-python",
   "name": "python",
   "nbconvert_exporter": "python",
   "pygments_lexer": "ipython3",
   "version": "3.12.9"
  },
  "orig_nbformat": 4
 },
 "nbformat": 4,
 "nbformat_minor": 2
}
